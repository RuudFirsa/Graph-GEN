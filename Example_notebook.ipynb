{
 "cells": [
  {
   "cell_type": "markdown",
   "metadata": {},
   "source": [
    "## License\n",
    "\n",
    "Copyright 2019 Ruud van Deursen, Firmenich SA.\n",
    "\n",
    "Redistribution and use in source and binary forms, with or without modification, are permitted provided that the following conditions are met:\n",
    "\n",
    "1. Redistributions of source code must retain the above copyright notice, this list of conditions and the following disclaimer.\n",
    "\n",
    "2. Redistributions in binary form must reproduce the above copyright notice, this list of conditions and the following disclaimer in the documentation and/or other materials provided with the distribution.\n",
    "\n",
    "3. Neither the name of the copyright holder nor the names of its contributors may be used to endorse or promote products derived from this software without specific prior written permission.\n",
    "\n",
    "THIS SOFTWARE IS PROVIDED BY THE COPYRIGHT HOLDERS AND CONTRIBUTORS \"AS IS\" AND ANY EXPRESS OR IMPLIED WARRANTIES, INCLUDING, BUT NOT LIMITED TO, THE IMPLIED WARRANTIES OF MERCHANTABILITY AND FITNESS FOR A PARTICULAR PURPOSE ARE DISCLAIMED. IN NO EVENT SHALL THE COPYRIGHT HOLDER OR CONTRIBUTORS BE LIABLE FOR ANY DIRECT, INDIRECT, INCIDENTAL, SPECIAL, EXEMPLARY, OR CONSEQUENTIAL DAMAGES (INCLUDING, BUT NOT LIMITED TO, PROCUREMENT OF SUBSTITUTE GOODS OR SERVICES; LOSS OF USE, DATA, OR PROFITS; OR BUSINESS INTERRUPTION) HOWEVER CAUSED AND ON ANY THEORY OF LIABILITY, WHETHER IN CONTRACT, STRICT LIABILITY, OR TORT (INCLUDING NEGLIGENCE OR OTHERWISE) ARISING IN ANY WAY OUT OF THE USE OF THIS SOFTWARE, EVEN IF ADVISED OF THE POSSIBILITY OF SUCH DAMAGE."
   ]
  },
  {
   "cell_type": "markdown",
   "metadata": {},
   "source": [
    "## Example Notebook\n",
    "\n",
    "This is an example notebook to model graphs using generative examinaton networks."
   ]
  },
  {
   "cell_type": "code",
   "execution_count": null,
   "metadata": {},
   "outputs": [],
   "source": [
    "#!pip install livelossplot\n",
    "#!pip install networkx\n",
    "from lgi_generative_model_utils import DataUtils\n",
    "import keras.backend as K\n",
    "from lgi_generative_model_alt import *\n",
    "import tensorflow as tf\n",
    "from numpy import arange\n",
    "config = None\n",
    "from lgi_valid_graph import GraphValidator\n",
    "#from livelossplot.tf_keras import PlotLossesCallback"
   ]
  },
  {
   "cell_type": "markdown",
   "metadata": {},
   "source": [
    "### Define memory block"
   ]
  },
  {
   "cell_type": "code",
   "execution_count": null,
   "metadata": {},
   "outputs": [],
   "source": [
    "if config is None:\n",
    "    config = tf.ConfigProto()\n",
    "    config.gpu_options.allow_growth = True\n",
    "    config.log_device_placement = True\n",
    "    sess = tf.Session(config=config)\n",
    "    K.set_session(sess)"
   ]
  },
  {
   "cell_type": "markdown",
   "metadata": {},
   "source": [
    "### Read data"
   ]
  },
  {
   "cell_type": "code",
   "execution_count": null,
   "metadata": {},
   "outputs": [],
   "source": [
    "# Read the data and setup Utils\n",
    "trainingset = \"datasets/Graphs_rnd_aug_1x.lgi\"\n",
    "Utils = DataUtils(maxlen=42,step=3) # This defines graphs with 25 vertices\n",
    "\n",
    "# Prepare data with an augmentation method\n",
    "text = Utils.Prepare(trainingset)\n",
    "print(\"Evaluated: %s\"%(Utils.evaluated))\n",
    "print(\"Kept entries: %s\"%(Utils.kept))\n",
    "print(\"Corpus length: %s\"%(len(text)))\n",
    "print(\"Total chars %s\"%(len(Utils.okchars)))\n",
    "print(\"Max lenghth %s\"%(Utils.maxg6))\n",
    "\n",
    "# Translate to X,Y and get maxlen observed\n",
    "# We take the computed maxlen, because\n",
    "# this max very on the dataset used.\n",
    "X,y,maxlen = Utils.Encode(text)"
   ]
  },
  {
   "cell_type": "markdown",
   "metadata": {},
   "source": [
    "### Methods used for modeling"
   ]
  },
  {
   "cell_type": "code",
   "execution_count": null,
   "metadata": {},
   "outputs": [],
   "source": [
    "def IsValidGraph(lgi):\n",
    "    return GraphValidator.IsValid(lgi)\n",
    "    \n",
    "def augment(lgi,naug=10):\n",
    "    return GraphRandomizer.Augment(lgi)"
   ]
  },
  {
   "cell_type": "code",
   "execution_count": null,
   "metadata": {},
   "outputs": [],
   "source": [
    "IsValidGraph(\"B1BBBB1\")"
   ]
  },
  {
   "cell_type": "markdown",
   "metadata": {},
   "source": [
    "### Setup the model"
   ]
  },
  {
   "cell_type": "code",
   "execution_count": null,
   "metadata": {},
   "outputs": [],
   "source": [
    "num_iterations,batch_size = 80,1024\n",
    "def TestModel(Utils,l1=64,l2=64,Bidirectional=[True,False],nmodels=4,merge=0):\n",
    "    model_setup = BaseModel(Utils,Layers=[l1,l2],Bidirectional=Bidirectional,minimodels=nmodels,merge=merge)\n",
    "    model = model_setup.Init(verbose=True)\n",
    "    return model_setup\n",
    "\n",
    "# Define num iterations\n",
    "def RunModel(model_setup,filepath,verbose=0):\n",
    "    logfile = \"%s.csv\"%(filepath[:filepath.index(\"-cuda5\")])\n",
    "    trainer = model_setup.InitTrainer(sanitycheck=IsValidGraph,verbose=True,minimum=.97,patience=10)\n",
    "    model,history = trainer.Fit(X,y,filepath,logfile,num_epochs=num_iterations,batch_size=batch_size,\n",
    "                                mycallbacks=[],verbose=verbose)\n",
    "    return (model,history)"
   ]
  },
  {
   "cell_type": "code",
   "execution_count": null,
   "metadata": {
    "scrolled": false
   },
   "outputs": [],
   "source": [
    "l1,l2 = 128,64\n",
    "nmodels = 4\n",
    "b1,b2 = False,False\n",
    "suffices = {0:\"Concatenated\"}\n",
    "#suffices = {0:\"Concatenated\",1:\"Averaged\",2:\"Learnable-average\"}\n",
    "model_setup = dict([(merge,TestModel(Utils,l1=l1,l2=l2,Bidirectional=[b1,b2],merge=merge,nmodels=nmodels)) for merge in suffices.keys()])"
   ]
  },
  {
   "cell_type": "markdown",
   "metadata": {},
   "source": [
    "### Run the training"
   ]
  },
  {
   "cell_type": "code",
   "execution_count": null,
   "metadata": {
    "scrolled": false
   },
   "outputs": [],
   "source": [
    "merge,run = 0,0 # Merge concatenated\n",
    "filepath = \"test_models/Graphs_rnd_1x_%s-%s_lstm-4xlstm_%s_run_%s-cuda5-sg-{epoch:03d}-{loss:.4f}.hdf5\"%(l1,l2,suffices[merge],run)\n",
    "models,history = RunModel(model_setup[merge],filepath,verbose=1)    "
   ]
  },
  {
   "cell_type": "code",
   "execution_count": null,
   "metadata": {},
   "outputs": [],
   "source": [
    "merge,run = 0,1 # Merge concatenated\n",
    "filepath = \"test_models/Graphs_rnd_1x_%s-%s_lstm-4xlstm_%s_run_%s-cuda5-sg-{epoch:03d}-{loss:.4f}.hdf5\"%(l1,l2,suffices[merge],run)\n",
    "models,history = RunModel(model_setup[merge],filepath,verbose=1)    "
   ]
  },
  {
   "cell_type": "code",
   "execution_count": null,
   "metadata": {},
   "outputs": [],
   "source": [
    "merge,run = 0,2 # Merge concatenated\n",
    "filepath = \"test_models/Graphs_rnd_1x_%s-%s_lstm-4xlstm_%s_run_%s-cuda5-sg-{epoch:03d}-{loss:.4f}.hdf5\"%(l1,l2,suffices[merge],run)\n",
    "models,history = RunModel(model_setup[merge],filepath,verbose=1)    "
   ]
  },
  {
   "cell_type": "markdown",
   "metadata": {},
   "source": [
    "### Generate samples for evaluation"
   ]
  },
  {
   "cell_type": "code",
   "execution_count": null,
   "metadata": {},
   "outputs": [],
   "source": [
    "fname = dict([\n",
    "    (\"<model path>\",False),\n",
    "    (\"<model path>\",False),\n",
    "    (\"<model path>\",False),\n",
    "]) "
   ]
  },
  {
   "cell_type": "code",
   "execution_count": null,
   "metadata": {},
   "outputs": [],
   "source": [
    "from datetime import datetime\n",
    "for file in fname.keys():\n",
    "    gen = model_setup[0].InitGenerator(\"test_models/%s\"%(file))\n",
    "    fout = file.replace(\"test_models\",\"generated\").replace(\".hdf5\",\"_%09d_%09d.lgi\")\n",
    "    start,batch,end = 0,180,540\n",
    "    while start < end:       \n",
    "        now = datetime.now()\n",
    "        graphs = gen.Predict(ncollect=batch)\n",
    "        now2 = datetime.now()\n",
    "        f = fout%(start,start+batch)\n",
    "        with open(\"generated_results/%s\"%(f),\"w\") as ios:\n",
    "            _ = [ios.write(\"%s\\n\"%(g6)) for g6 in graphs]\n",
    "        now3 = datetime.now()\n",
    "        diff1 = now2-now\n",
    "        diff2 = now3-now2\n",
    "        diff1 = diff1.seconds + 1e-6*diff1.microseconds\n",
    "        diff2 = diff2.seconds + 1e-6*diff2.microseconds\n",
    "        start += batch\n",
    "        print(\"Written %s Gen=%.3f Writing=%.3f\"%(f,diff1,diff2))"
   ]
  },
  {
   "cell_type": "code",
   "execution_count": null,
   "metadata": {},
   "outputs": [],
   "source": [
    "from datetime import datetime\n",
    "for file in fname.keys():\n",
    "    gen = model_setup[0].InitGenerator(\"test_models/%s\"%(file))\n",
    "    fout = file.replace(\"test_models\",\"generated\").replace(\".hdf5\",\"_%09d_%09d.lgi\")\n",
    "    start,batch,end = 0,2000,6000\n",
    "    while start < end:       \n",
    "        now = datetime.now()\n",
    "        graphs = gen.Predict(ncollect=batch)\n",
    "        now2 = datetime.now()\n",
    "        f = fout%(start,start+batch)\n",
    "        with open(\"generated_results/%s\"%(f),\"w\") as ios:\n",
    "            _ = [ios.write(\"%s\\n\"%(g6)) for g6 in graphs]\n",
    "        now3 = datetime.now()\n",
    "        diff1 = now2-now\n",
    "        diff2 = now3-now2\n",
    "        diff1 = diff1.seconds + 1e-6*diff1.microseconds\n",
    "        diff2 = diff2.seconds + 1e-6*diff2.microseconds\n",
    "        start += batch\n",
    "        print(\"Written %s Gen=%.3f Writing=%.3f\"%(f,diff1,diff2))"
   ]
  },
  {
   "cell_type": "markdown",
   "metadata": {},
   "source": [
    "### Generate many"
   ]
  },
  {
   "cell_type": "code",
   "execution_count": null,
   "metadata": {},
   "outputs": [],
   "source": [
    "from datetime import datetime\n",
    "for file in fname.keys():\n",
    "    gen = model_setup[0].InitGenerator(\"test_models/%s\"%(file))\n",
    "    fout = file.replace(\"test_models\",\"generated\").replace(\".hdf5\",\"_%09d_%09d.lgi\")\n",
    "    start,batch,end = 250000,10000,1e7\n",
    "    while start < end:       \n",
    "        now = datetime.now()\n",
    "        graphs = gen.Predict(ncollect=batch)\n",
    "        now2 = datetime.now()\n",
    "        f = fout%(start,start+batch)\n",
    "        with open(\"time_series/%s\"%(f),\"w\") as ios:\n",
    "            _ = [ios.write(\"%s\\n\"%(g6)) for g6 in graphs]\n",
    "        now3 = datetime.now()\n",
    "        diff1 = now2-now\n",
    "        diff2 = now3-now2\n",
    "        diff1 = diff1.seconds + 1e-6*diff1.microseconds\n",
    "        diff2 = diff2.seconds + 1e-6*diff2.microseconds\n",
    "        start += batch\n",
    "        print(\"Written %s Gen=%.3f Writing=%.3f\"%(f,diff1,diff2))\n",
    "    break"
   ]
  },
  {
   "cell_type": "code",
   "execution_count": null,
   "metadata": {},
   "outputs": [],
   "source": []
  }
 ],
 "metadata": {
  "kernelspec": {
   "display_name": "Python 3",
   "language": "python",
   "name": "python3"
  },
  "language_info": {
   "codemirror_mode": {
    "name": "ipython",
    "version": 3
   },
   "file_extension": ".py",
   "mimetype": "text/x-python",
   "name": "python",
   "nbconvert_exporter": "python",
   "pygments_lexer": "ipython3",
   "version": "3.7.3"
  }
 },
 "nbformat": 4,
 "nbformat_minor": 2
}
